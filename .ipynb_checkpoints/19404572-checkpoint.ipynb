{
 "cells": [
  {
   "cell_type": "markdown",
   "metadata": {},
   "source": [
    "## ASSIGNMENT 1"
   ]
  },
  {
   "cell_type": "markdown",
   "metadata": {},
   "source": [
    "## Question 1"
   ]
  },
  {
   "cell_type": "code",
   "execution_count": 15,
   "metadata": {},
   "outputs": [],
   "source": [
    "#Question 0 - assignment set up/import\n",
    "import numpy as np \n",
    "\n",
    "import matplotlib.pyplot as plt \n",
    "\n",
    "import math as math"
   ]
  },
  {
   "cell_type": "code",
   "execution_count": 16,
   "metadata": {},
   "outputs": [],
   "source": [
    "#Question 1(a) \n",
    "def VectorLength(x,y):\n",
    "    result = np.sqrt((x**2)+(y**2)) #Vector length function with variables x,y\n",
    "    return result"
   ]
  },
  {
   "cell_type": "code",
   "execution_count": 17,
   "metadata": {},
   "outputs": [
    {
     "name": "stdout",
     "output_type": "stream",
     "text": [
      "7.810249675906654\n",
      "5.0990195135927845\n"
     ]
    }
   ],
   "source": [
    "#Question 1(b)\n",
    "print(VectorLength(5,6)) #length of vector (5,6)\n",
    "\n",
    "print(VectorLength(-1,5)) #length of vector (-1,5)"
   ]
  },
  {
   "cell_type": "code",
   "execution_count": 18,
   "metadata": {},
   "outputs": [
    {
     "name": "stdout",
     "output_type": "stream",
     "text": [
      "sin(1) =  0.8414709848078965\n",
      "sin(1) = 0.841\n"
     ]
    }
   ],
   "source": [
    "#Question 1(b)\n",
    "print('sin(1) = ' , np.sin(1)) #original command\n",
    "\n",
    "print(\"sin(1) = %.3f\" % np.sin(1)) #modified command\n"
   ]
  },
  {
   "cell_type": "markdown",
   "metadata": {},
   "source": [
    "## Question 2 "
   ]
  },
  {
   "cell_type": "code",
   "execution_count": 19,
   "metadata": {},
   "outputs": [],
   "source": [
    "# Function to check if a number is prime\n",
    "def IsPrime(n):\n",
    "    i=2 \n",
    "    while i < np.sqrt(n):\n",
    "        #for each i check if it divides n\n",
    "        if(n % i ==0 ):\n",
    "            return 0 \n",
    "        i += 1\n",
    "        #if no divisors are found number is prime\n",
    "        return 1"
   ]
  },
  {
   "cell_type": "code",
   "execution_count": 20,
   "metadata": {},
   "outputs": [
    {
     "name": "stdout",
     "output_type": "stream",
     "text": [
      "None\n",
      "None\n",
      "None\n",
      "None\n",
      "1\n",
      "0\n",
      "1\n",
      "0\n",
      "1\n",
      "0\n"
     ]
    }
   ],
   "source": [
    "#Question 2a\n",
    "#checking values 1-10\n",
    "print(IsPrime(1))\n",
    "print(IsPrime(2))\n",
    "print(IsPrime(3))\n",
    "print(IsPrime(4))\n",
    "print(IsPrime(5))\n",
    "print(IsPrime(6))\n",
    "print(IsPrime(7))\n",
    "print(IsPrime(8))\n",
    "print(IsPrime(9))\n",
    "print(IsPrime(10))\n",
    "##THIS FUNCTION DOES NOT WORK"
   ]
  },
  {
   "cell_type": "code",
   "execution_count": 21,
   "metadata": {},
   "outputs": [],
   "source": [
    "#QUESTION 2b+2c\n",
    "# Function to check if a number is prime\n",
    "def IsPrime(n):\n",
    "    i=2 \n",
    "    #solves problem of 1 meeting criteria of the function while not being prime 2a\n",
    "    if(n == 1):\n",
    "        return 0\n",
    "    else:   \n",
    "         while (i <= np.sqrt(n)):#fixes issue in Q2c and ensures all i are checked eg 3%9\n",
    "        #for each i check if it divides n\n",
    "             if(n % i ==0 ):\n",
    "                return 0 \n",
    "             i += 1\n",
    "        #if no divisors are found number is prime\n",
    "    return 1"
   ]
  },
  {
   "cell_type": "code",
   "execution_count": 22,
   "metadata": {},
   "outputs": [
    {
     "name": "stdout",
     "output_type": "stream",
     "text": [
      "1\n"
     ]
    }
   ],
   "source": [
    "#QUESTION 2b+2c\n",
    "#Rechecking n = 1-11\n",
    "\n",
    "print(IsPrime(5))\n",
    "#Function Works up until 11"
   ]
  },
  {
   "cell_type": "code",
   "execution_count": 23,
   "metadata": {},
   "outputs": [
    {
     "name": "stdout",
     "output_type": "stream",
     "text": [
      "168\n"
     ]
    }
   ],
   "source": [
    "##QUESTION 2e \n",
    "#operation to check prime numbers less than 1000 \n",
    "#list of elements produces\n",
    "List1 =[]\n",
    "for i in range (1,1001):#count all numbers within range\n",
    "    if IsPrime(i) == 1:#if function returns a 1 add to list of elements\n",
    "        List1.append(i)\n",
    "print(len(List1))#count elements in the list"
   ]
  },
  {
   "cell_type": "code",
   "execution_count": 24,
   "metadata": {},
   "outputs": [
    {
     "name": "stdout",
     "output_type": "stream",
     "text": [
      "168\n",
      "1229\n"
     ]
    }
   ],
   "source": [
    "##QUESTION 2f\n",
    "#turning above operation into function\n",
    "def PrimeCount(n):\n",
    "    i=1\n",
    "    List2 = []\n",
    "    for i in range (1,n+1):#allow for n+1 numbers\n",
    "        if IsPrime(i) == 1:\n",
    "            List2.append(i)\n",
    "    return(len(List2)) \n",
    "\n",
    "print(PrimeCount(1000))#Count of Prime numbers up to 1,000\n",
    "print(PrimeCount(10000))#Count of Prime numbers up to 10,000\n",
    "\n",
    "        "
   ]
  },
  {
   "cell_type": "code",
   "execution_count": 25,
   "metadata": {},
   "outputs": [],
   "source": [
    "##QUESTION 2g\n",
    "x = np.arange(0,40,1)\n",
    "Pi = np.zeros(40)\n",
    "i = 0\n",
    "while i < np.size(Pi):\n",
    "    Pi[i] = PrimeCount(i)\n",
    "    i += 1"
   ]
  },
  {
   "cell_type": "code",
   "execution_count": 26,
   "metadata": {},
   "outputs": [
    {
     "data": {
      "image/png": "[encoded data removed]",
      "text/plain": [
       "<Figure size 432x288 with 1 Axes>"
      ]
     },
     "metadata": {
      "needs_background": "light"
     },
     "output_type": "display_data"
    }
   ],
   "source": [
    "##QUESTION2g\n",
    "plt.plot(x,Pi,\"ro\")\n",
    "plt.xlabel('x')##add x axis label\n",
    "plt.ylabel('Pi(x)')##add y axis label\n",
    "plt.grid(True)#add grid to plot"
   ]
  },
  {
   "cell_type": "markdown",
   "metadata": {},
   "source": [
    "## QUESTION3"
   ]
  },
  {
   "cell_type": "code",
   "execution_count": 36,
   "metadata": {},
   "outputs": [
    {
     "name": "stdout",
     "output_type": "stream",
     "text": [
      "[[1.000e-01 1.000e-02]\n",
      " [2.000e-01 4.000e-02]\n",
      " [3.000e-01 9.000e-02]\n",
      " [4.000e-01 1.600e-01]\n",
      " [5.000e-01 2.500e-01]\n",
      " [6.000e-01 3.600e-01]\n",
      " [7.000e-01 4.900e-01]\n",
      " [8.000e-01 6.400e-01]\n",
      " [9.000e-01 8.100e-01]\n",
      " [1.000e+00 1.000e+00]\n",
      " [1.100e+00 1.210e+00]\n",
      " [1.200e+00 1.440e+00]\n",
      " [1.300e+00 1.690e+00]\n",
      " [1.400e+00 1.960e+00]\n",
      " [1.500e+00 2.250e+00]\n",
      " [1.600e+00 2.560e+00]\n",
      " [1.700e+00 2.890e+00]\n",
      " [1.800e+00 3.240e+00]\n",
      " [1.900e+00 3.610e+00]\n",
      " [2.000e+00 4.000e+00]\n",
      " [2.100e+00 4.410e+00]\n",
      " [2.200e+00 4.840e+00]\n",
      " [2.300e+00 5.290e+00]\n",
      " [2.400e+00 5.760e+00]\n",
      " [2.500e+00 6.250e+00]\n",
      " [2.600e+00 6.760e+00]\n",
      " [2.700e+00 7.290e+00]\n",
      " [2.800e+00 7.840e+00]\n",
      " [2.900e+00 8.410e+00]\n",
      " [3.000e+00 9.000e+00]\n",
      " [3.100e+00 9.610e+00]\n",
      " [3.200e+00 1.024e+01]\n",
      " [3.300e+00 1.089e+01]\n",
      " [3.400e+00 1.156e+01]\n",
      " [3.500e+00 1.225e+01]\n",
      " [3.600e+00 1.296e+01]\n",
      " [3.700e+00 1.369e+01]\n",
      " [3.800e+00 1.444e+01]\n",
      " [3.900e+00 1.521e+01]\n",
      " [4.000e+00 1.600e+01]\n",
      " [4.100e+00 1.681e+01]\n",
      " [4.200e+00 1.764e+01]\n",
      " [4.300e+00 1.849e+01]\n",
      " [4.400e+00 1.936e+01]\n",
      " [4.500e+00 2.025e+01]\n",
      " [4.600e+00 2.116e+01]\n",
      " [4.700e+00 2.209e+01]\n",
      " [4.800e+00 2.304e+01]\n",
      " [4.900e+00 2.401e+01]\n",
      " [5.000e+00 2.500e+01]\n",
      " [5.100e+00 2.601e+01]\n",
      " [5.200e+00 2.704e+01]\n",
      " [5.300e+00 2.809e+01]\n",
      " [5.400e+00 2.916e+01]\n",
      " [5.500e+00 3.025e+01]\n",
      " [5.600e+00 3.136e+01]\n",
      " [5.700e+00 3.249e+01]\n",
      " [5.800e+00 3.364e+01]\n",
      " [5.900e+00 3.481e+01]\n",
      " [6.000e+00 3.600e+01]\n",
      " [6.100e+00 3.721e+01]\n",
      " [6.200e+00 3.844e+01]\n",
      " [6.300e+00 3.969e+01]\n",
      " [6.400e+00 4.096e+01]\n",
      " [6.500e+00 4.225e+01]\n",
      " [6.600e+00 4.356e+01]\n",
      " [6.700e+00 4.489e+01]\n",
      " [6.800e+00 4.624e+01]\n",
      " [6.900e+00 4.761e+01]\n",
      " [7.000e+00 4.900e+01]\n",
      " [7.100e+00 5.041e+01]\n",
      " [7.200e+00 5.184e+01]\n",
      " [7.300e+00 5.329e+01]\n",
      " [7.400e+00 5.476e+01]\n",
      " [7.500e+00 5.625e+01]\n",
      " [7.600e+00 5.776e+01]\n",
      " [7.700e+00 5.929e+01]\n",
      " [7.800e+00 6.084e+01]\n",
      " [7.900e+00 6.241e+01]\n",
      " [8.000e+00 6.400e+01]\n",
      " [8.100e+00 6.561e+01]\n",
      " [8.200e+00 6.724e+01]\n",
      " [8.300e+00 6.889e+01]\n",
      " [8.400e+00 7.056e+01]\n",
      " [8.500e+00 7.225e+01]\n",
      " [8.600e+00 7.396e+01]\n",
      " [8.700e+00 7.569e+01]\n",
      " [8.800e+00 7.744e+01]\n",
      " [8.900e+00 7.921e+01]\n",
      " [9.000e+00 8.100e+01]\n",
      " [9.100e+00 8.281e+01]\n",
      " [9.200e+00 8.464e+01]\n",
      " [9.300e+00 8.649e+01]\n",
      " [9.400e+00 8.836e+01]\n",
      " [9.500e+00 9.025e+01]\n",
      " [9.600e+00 9.216e+01]\n",
      " [9.700e+00 9.409e+01]\n",
      " [9.800e+00 9.604e+01]\n",
      " [9.900e+00 9.801e+01]\n",
      " [1.000e+01 1.000e+02]]\n"
     ]
    }
   ],
   "source": [
    "##QUESTION 3a\n",
    "\n",
    "data=np.loadtxt(\"PowerLawOrExponential.txt\")#Loading in data\n",
    "print(data)#Data Check"
   ]
  },
  {
   "cell_type": "code",
   "execution_count": 52,
   "metadata": {},
   "outputs": [
    {
     "data": {
      "text/plain": [
       "[<matplotlib.lines.Line2D at 0x7fdb97ed6970>]"
      ]
     },
     "execution_count": 52,
     "metadata": {},
     "output_type": "execute_result"
    },
    {
     "data": {
      "image/png": "[encoded data removed]",
      "text/plain": [
       "<Figure size 432x288 with 1 Axes>"
      ]
     },
     "metadata": {
      "needs_background": "light"
     },
     "output_type": "display_data"
    }
   ],
   "source": [
    "## QUESTION 3b,c\n",
    "x= data[:,0] #Define first column as x\n",
    "y= data[:,1] #Define second column\n",
    "plt.xlabel(\"log(x)\")\n",
    "plt.ylabel(\"log(y)\")\n",
    "plt.grid(True)#Insert Grid\n",
    "\n",
    "plt.plot(np.log(x),np.log(y))## Log-Log plot"
   ]
  },
  {
   "cell_type": "code",
   "execution_count": 51,
   "metadata": {},
   "outputs": [
    {
     "data": {
      "text/plain": [
       "[<matplotlib.lines.Line2D at 0x7fdb977133d0>]"
      ]
     },
     "execution_count": 51,
     "metadata": {},
     "output_type": "execute_result"
    },
    {
     "data": {
      "image/png": "[encoded data removed]",
      "text/plain": [
       "<Figure size 432x288 with 1 Axes>"
      ]
     },
     "metadata": {
      "needs_background": "light"
     },
     "output_type": "display_data"
    }
   ],
   "source": [
    "##Question 3(c)\n",
    "plt.xlabel(\"x\")\n",
    "plt.ylabel(\"log(y)\")\n",
    "\n",
    "plt.grid(True)\n",
    "plt.plot(x,np.log(y))#Log Plot"
   ]
  },
  {
   "cell_type": "code",
   "execution_count": null,
   "metadata": {},
   "outputs": [],
   "source": [
    "#QUESTION 3D,3E\n",
    "\n",
    "##Data is a power law function as it is straight on a log log plot.\n",
    "\n",
    "#n = 2 for this data as the slope of slope of the line in the log-log plot 2/1=n\n"
   ]
  }
 ],
 "metadata": {
  "kernelspec": {
   "display_name": "Python 3",
   "language": "python",
   "name": "python3"
  },
  "language_info": {
   "codemirror_mode": {
    "name": "ipython",
    "version": 3
   },
   "file_extension": ".py",
   "mimetype": "text/x-python",
   "name": "python",
   "nbconvert_exporter": "python",
   "pygments_lexer": "ipython3",
   "version": "3.8.3"
  }
 },
 "nbformat": 4,
 "nbformat_minor": 4
}
